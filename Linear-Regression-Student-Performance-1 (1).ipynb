{
 "cells": [
  {
   "cell_type": "markdown",
   "id": "38baca22",
   "metadata": {},
   "source": [
    "''''Please provide a step-by-step explanation of how to create a simple linear regression model to\n",
    "predict a student's exam score based on the number of hours studied. Include instructions on \n",
    "generating synthetic data for this example and clarify the significance of the slope and \n",
    "intercept in interpreting the model's predictions'''"
   ]
  },
  {
   "cell_type": "markdown",
   "id": "b9ed19d8",
   "metadata": {},
   "source": [
    "# Step 1: Data Generation"
   ]
  },
  {
   "cell_type": "code",
   "execution_count": null,
   "id": "e1c60b22",
   "metadata": {},
   "outputs": [],
   "source": [
    "import pandas as pd\n",
    "import numpy as np\n",
    "import matplotlib.pyplot as plt\n",
    "from sklearn.model_selection import train_test_split\n",
    "from sklearn.linear_model import LinearRegression\n",
    "from sklearn.metrics import mean_squared_error, r2_score"
   ]
  },
  {
   "cell_type": "markdown",
   "id": "2e8aca2c",
   "metadata": {},
   "source": [
    "# Step 2: Data Preparation"
   ]
  },
  {
   "cell_type": "code",
   "execution_count": 2,
   "id": "c547a275",
   "metadata": {},
   "outputs": [],
   "source": [
    "# Generate synthetic data for the example\n",
    "np.random.seed(0)\n",
    "hours_studied = np.random.uniform(0, 10, 100)  # Random hours studied (0 to 10 hours)\n",
    "exam_scores = 50 + 5 * hours_studied + np.random.normal(0, 2, 100)  # Linear relationship with noise\n"
   ]
  },
  {
   "cell_type": "code",
   "execution_count": 3,
   "id": "cd6767be",
   "metadata": {},
   "outputs": [],
   "source": [
    "# Create a DataFrame\n",
    "data = pd.DataFrame({'Hours_Studied': hours_studied, 'Exam_Scores': exam_scores})\n"
   ]
  },
  {
   "cell_type": "code",
   "execution_count": null,
   "id": "61289144",
   "metadata": {},
   "outputs": [],
   "source": [
    "data"
   ]
  },
  {
   "cell_type": "markdown",
   "id": "3477f7f3",
   "metadata": {},
   "source": [
    "# Step 3: Data Splitting"
   ]
  },
  {
   "cell_type": "code",
   "execution_count": 5,
   "id": "83c77731",
   "metadata": {},
   "outputs": [],
   "source": [
    "# Split the data into training and testing sets (80% training, 20% testing)\n",
    "X = data[['Hours_Studied']]\n",
    "y = data['Exam_Scores']\n",
    "X_train, X_test, y_train, y_test = train_test_split(X, y, test_size=0.2, random_state=42)\n"
   ]
  },
  {
   "cell_type": "code",
   "execution_count": null,
   "id": "d1e6eb6e",
   "metadata": {},
   "outputs": [],
   "source": [
    "print(len(X_train))\n",
    "print(len(X_test))\n",
    "print(len(y_train))\n",
    "print(len(y_test))\n"
   ]
  },
  {
   "cell_type": "markdown",
   "id": "c2f9cf7f",
   "metadata": {},
   "source": [
    "# Step 4: Linear Regression Modeling"
   ]
  },
  {
   "cell_type": "code",
   "execution_count": null,
   "id": "0bda2f15",
   "metadata": {},
   "outputs": [],
   "source": [
    "# Create and train a linear regression model\n",
    "model = LinearRegression()\n",
    "model.fit(X_train, y_train)"
   ]
  },
  {
   "cell_type": "markdown",
   "id": "22028432",
   "metadata": {},
   "source": [
    "# Step 5: Model Evaluation"
   ]
  },
  {
   "cell_type": "code",
   "execution_count": 8,
   "id": "494da3cb",
   "metadata": {},
   "outputs": [],
   "source": [
    "# Make predictions on the testing data\n",
    "y_pred = model.predict(X_test)\n",
    "\n",
    "\n"
   ]
  },
  {
   "cell_type": "code",
   "execution_count": null,
   "id": "06e3c2e8",
   "metadata": {},
   "outputs": [],
   "source": [
    "y_pred"
   ]
  },
  {
   "cell_type": "code",
   "execution_count": null,
   "id": "7209d3c0",
   "metadata": {},
   "outputs": [],
   "source": [
    "y_test"
   ]
  },
  {
   "cell_type": "code",
   "execution_count": null,
   "id": "ecad7932",
   "metadata": {},
   "outputs": [],
   "source": [
    "for i,j in zip(y_test,y_pred):\n",
    "    print(\"y_test\",i, \"   \", \"y_pred\",j)"
   ]
  },
  {
   "cell_type": "code",
   "execution_count": null,
   "id": "d78367d4",
   "metadata": {},
   "outputs": [],
   "source": [
    "# Evaluate the model's performance\n",
    "mse = mean_squared_error(y_test, y_pred)\n",
    "r2 = r2_score(y_test, y_pred)\n",
    "\n",
    "print(f'Mean Squared Error: {mse:.2f}')\n",
    "print(f'R-squared: {r2:.2f}')"
   ]
  },
  {
   "cell_type": "markdown",
   "id": "12d651a2",
   "metadata": {},
   "source": [
    "# Step 6: Visualization and Interpretation"
   ]
  },
  {
   "cell_type": "code",
   "execution_count": null,
   "id": "18de7a08",
   "metadata": {},
   "outputs": [],
   "source": [
    "# Plot the regression line and data points\n",
    "plt.scatter(X_test, y_test, color='blue', label='Actual Data')\n",
    "plt.plot(X_test, y_pred, color='red', label='Regression Line', linewidth=2)\n",
    "plt.xlabel('Hours Studied')\n",
    "plt.ylabel('Exam Scores')\n",
    "plt.legend()\n",
    "plt.title('Simple Linear Regression: Hours Studied vs. Exam Scores')\n",
    "plt.show()"
   ]
  },
  {
   "cell_type": "code",
   "execution_count": null,
   "id": "69e3b3fc",
   "metadata": {},
   "outputs": [],
   "source": [
    "# Interpret the model's coefficients\n",
    "slope = model.coef_[0]\n",
    "intercept = model.intercept_\n",
    "\n",
    "print(f'Slope (Coefficient): {slope:.2f}')\n",
    "print(f'Intercept: {intercept:.2f}')"
   ]
  },
  {
   "cell_type": "code",
   "execution_count": null,
   "id": "4b813004",
   "metadata": {},
   "outputs": [],
   "source": []
  },
  {
   "cell_type": "code",
   "execution_count": null,
   "id": "ab172bac",
   "metadata": {},
   "outputs": [],
   "source": []
  },
  {
   "cell_type": "code",
   "execution_count": null,
   "id": "9f0d0131",
   "metadata": {},
   "outputs": [],
   "source": []
  }
 ],
 "metadata": {
  "kernelspec": {
   "display_name": "Python 3 (ipykernel)",
   "language": "python",
   "name": "python3"
  },
  "language_info": {
   "codemirror_mode": {
    "name": "ipython",
    "version": 3
   },
   "file_extension": ".py",
   "mimetype": "text/x-python",
   "name": "python",
   "nbconvert_exporter": "python",
   "pygments_lexer": "ipython3",
   "version": "3.10.14"
  }
 },
 "nbformat": 4,
 "nbformat_minor": 5
}
